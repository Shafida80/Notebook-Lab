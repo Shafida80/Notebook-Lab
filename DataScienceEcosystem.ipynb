{
 "cells": [
  {
   "attachments": {},
   "cell_type": "markdown",
   "id": "8b65eb80-40e2-4c79-a06d-a8eb03c5dde0",
   "metadata": {},
   "source": [
    "# Data Science Tools and Ecosystem\n",
    "\n",
    "In this notebook, Data Science Tools and Ecosystem are summarized."
   ]
  },
  {
   "cell_type": "markdown",
   "id": "ed683e99-b824-4a31-a2e7-79f7096fd309",
   "metadata": {},
   "source": [
    "# **Objectives:**\n",
    "\n",
    "* Python\n",
    "* R\n",
    "* SQL\n"
   ]
  },
  {
   "cell_type": "markdown",
   "id": "53efe533-dd65-41eb-b50e-9d43a17ab349",
   "metadata": {},
   "source": [
    "## Author\n",
    "HAFIDA SAIDI"
   ]
  },
  {
   "cell_type": "markdown",
   "id": "21efd764-ed41-4243-b5f3-3c317cf6ee05",
   "metadata": {},
   "source": [
    "Some of the popular languages that Data Scientists use are:\n",
    "1. Python\n",
    "2. R\n",
    "3. SQL"
   ]
  },
  {
   "cell_type": "markdown",
   "id": "1bef785a-b922-4da4-94c8-f04543af57f1",
   "metadata": {},
   "source": [
    "Some of the commonly used libraries used by Data Scientists include:\n",
    "- Tensorflow\n",
    "- Pytorch\n",
    "- scklearn"
   ]
  },
  {
   "cell_type": "markdown",
   "id": "02915022-f975-418b-b51b-21dbae446518",
   "metadata": {},
   "source": [
    "| Data Science Tools | \n",
    "| -------------| \n",
    "| Jupyter Notebook | \n",
    "| JupyterLab | \n",
    "| Anaconda | "
   ]
  },
  {
   "cell_type": "markdown",
   "id": "56682e33-3f6a-464e-82cd-0de06e3fbc8d",
   "metadata": {},
   "source": [
    "### Below are a few examples of evaluating arithmetic expressions in Python\n"
   ]
  },
  {
   "cell_type": "code",
   "execution_count": 3,
   "id": "9a475624-5e29-4e9f-9886-aea1043eb18e",
   "metadata": {},
   "outputs": [
    {
     "data": {
      "text/plain": [
       "17"
      ]
     },
     "execution_count": 3,
     "metadata": {},
     "output_type": "execute_result"
    }
   ],
   "source": [
    "# This a simple arithmetic expression to mutiply then add integers\n",
    "(3*4)+5"
   ]
  },
  {
   "cell_type": "code",
   "execution_count": 6,
   "id": "076c84c3-9ed7-42e4-8270-e7bb1cefcb63",
   "metadata": {},
   "outputs": [
    {
     "name": "stdout",
     "output_type": "stream",
     "text": [
      "200 min is  3.3333333333333335 H\n"
     ]
    }
   ],
   "source": [
    "# This will convert 200 minutes to hours by diving by 60\n",
    "Hour = 200 / 60\n",
    "print('200 min is ', Hour,'H')"
   ]
  },
  {
   "cell_type": "code",
   "execution_count": null,
   "id": "52c39ad2-a2ca-4195-9f88-368b3830d500",
   "metadata": {},
   "outputs": [],
   "source": []
  },
  {
   "cell_type": "code",
   "execution_count": null,
   "id": "b86acd0f-84c6-452a-8f8e-0e20df3b3a26",
   "metadata": {},
   "outputs": [],
   "source": []
  }
 ],
 "metadata": {
  "kernelspec": {
   "display_name": "Python 3 (ipykernel)",
   "language": "python",
   "name": "python3"
  },
  "language_info": {
   "codemirror_mode": {
    "name": "ipython",
    "version": 3
   },
   "file_extension": ".py",
   "mimetype": "text/x-python",
   "name": "python",
   "nbconvert_exporter": "python",
   "pygments_lexer": "ipython3",
   "version": "3.11.8"
  }
 },
 "nbformat": 4,
 "nbformat_minor": 5
}
